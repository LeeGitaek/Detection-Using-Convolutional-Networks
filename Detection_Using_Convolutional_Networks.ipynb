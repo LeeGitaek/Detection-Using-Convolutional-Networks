{
  "nbformat": 4,
  "nbformat_minor": 0,
  "metadata": {
    "colab": {
      "name": "Detection-Using-Convolutional-Networks.ipynb",
      "provenance": [],
      "authorship_tag": "ABX9TyNrJmXyL7CMiY3hmiHVImCs"
    },
    "kernelspec": {
      "name": "python3",
      "display_name": "Python 3"
    },
    "accelerator": "GPU"
  },
  "cells": [
    {
      "cell_type": "markdown",
      "metadata": {
        "id": "WSn2aUTQkuMp",
        "colab_type": "text"
      },
      "source": [
        "Import library using pytorch and extra"
      ]
    },
    {
      "cell_type": "code",
      "metadata": {
        "id": "XAN9bI8cb8q5",
        "colab_type": "code",
        "colab": {}
      },
      "source": [
        "import torch\n",
        "import torchvision.datasets as datasets\n",
        "import torchvision.transforms as transforms\n",
        "import pandas as pd\n",
        "import numpy as np\n",
        "import torch.nn.functional as F\n",
        "import torch.nn as nn"
      ],
      "execution_count": 1,
      "outputs": []
    },
    {
      "cell_type": "code",
      "metadata": {
        "id": "xk9NAdbGdtoz",
        "colab_type": "code",
        "colab": {}
      },
      "source": [
        "device = 'cuda' if torch.cuda.is_available() else 'cpu'\n",
        "torch.manual_seed(777)\n",
        "if device == 'cuda':\n",
        "    torch.cuda.manual_seed(777)"
      ],
      "execution_count": null,
      "outputs": []
    },
    {
      "cell_type": "markdown",
      "metadata": {
        "id": "Q5ZJihjwksEz",
        "colab_type": "text"
      },
      "source": [
        "Model Parameters "
      ]
    },
    {
      "cell_type": "code",
      "metadata": {
        "id": "UacvhkXsdu5b",
        "colab_type": "code",
        "colab": {}
      },
      "source": [
        "# Model Parameters \n",
        "\n",
        "learning_rate = 0.05\n",
        "training_epochs = 30 \n",
        "#[30,40,50,60,70,80]\n",
        "batch_size = 100\n",
        "drop_prob = 0.5"
      ],
      "execution_count": null,
      "outputs": []
    },
    {
      "cell_type": "markdown",
      "metadata": {
        "id": "27s7jxh3khwm",
        "colab_type": "text"
      },
      "source": [
        "This is class code of Detection-Using-Convolutional-Networks Model Structure"
      ]
    },
    {
      "cell_type": "code",
      "metadata": {
        "id": "rpNTS6_scWcK",
        "colab_type": "code",
        "colab": {}
      },
      "source": [
        "class Detection_Convolutional_Network(torch.nn.Module):\n",
        "    def __init__(self):\n",
        "      super(Detection_Convolutional_Network,self).__init__()\n",
        "\n",
        "    \n",
        "      self.layer1 = torch.nn.Sequential(\n",
        "        # output size of layer 1 = (N-F)/Stride + 1 = (96 - 11) / 4 + 1 = 23.22\n",
        "        torch.nn.Conv2d(1,96,kernel_size=11,stride=4,padding=0),\n",
        "        torch.nn.ReLU(),\n",
        "        torch.nn.MaxPool2d(kernel_size=2,stride=2)\n",
        "      )\n",
        "\n",
        "      #self.fc_layer6 = torch.nn.Linear(0,0,bias=True)\n",
        "      #torch.nn.init.kaiming_uniform(self.fc.weight)\n",
        "    def forward(self , x):\n",
        "        out = self.layer1(x)\n",
        "        return out"
      ],
      "execution_count": null,
      "outputs": []
    }
  ]
}